{
 "cells": [
  {
   "cell_type": "markdown",
   "id": "bc572ebb",
   "metadata": {},
   "source": [
    "# Python String Methods\n",
    "This notebook includes examples of Python string methods with explanations.\n"
   ]
  },
  {
   "cell_type": "markdown",
   "id": "c26c0256",
   "metadata": {},
   "source": [
    "### str.capitalize()\n",
    "**Description**: Capitalize the first character."
   ]
  },
  {
   "cell_type": "code",
   "execution_count": null,
   "id": "77093493",
   "metadata": {},
   "outputs": [],
   "source": [
    "s = \"hello\"\n",
    "print(s.capitalize())"
   ]
  },
  {
   "cell_type": "markdown",
   "id": "7b59479b",
   "metadata": {},
   "source": [
    "### str.casefold()\n",
    "**Description**: Convert string to lowercase (more aggressive)."
   ]
  },
  {
   "cell_type": "code",
   "execution_count": null,
   "id": "dec2aa7a",
   "metadata": {},
   "outputs": [],
   "source": [
    "s = \"HELLO\"\n",
    "print(s.casefold())"
   ]
  },
  {
   "cell_type": "markdown",
   "id": "62724031",
   "metadata": {},
   "source": [
    "### str.center()\n",
    "**Description**: Center the string with padding."
   ]
  },
  {
   "cell_type": "code",
   "execution_count": null,
   "id": "666bfe61",
   "metadata": {},
   "outputs": [],
   "source": [
    "s = \"hello\"\n",
    "print(s.center(10, \"-\"))"
   ]
  },
  {
   "cell_type": "markdown",
   "id": "0373b589",
   "metadata": {},
   "source": [
    "### str.count()\n",
    "**Description**: Count occurrences of substring."
   ]
  },
  {
   "cell_type": "code",
   "execution_count": null,
   "id": "d8c28bda",
   "metadata": {},
   "outputs": [],
   "source": [
    "s = \"banana\"\n",
    "print(s.count(\"a\"))"
   ]
  },
  {
   "cell_type": "markdown",
   "id": "c69f4ed3",
   "metadata": {},
   "source": [
    "### str.encode()\n",
    "**Description**: Encode the string."
   ]
  },
  {
   "cell_type": "code",
   "execution_count": null,
   "id": "3a07eae0",
   "metadata": {},
   "outputs": [],
   "source": [
    "s = \"hello\"\n",
    "print(s.encode())"
   ]
  },
  {
   "cell_type": "markdown",
   "id": "ebd1fbd7",
   "metadata": {},
   "source": [
    "### str.endswith()\n",
    "**Description**: Check if string ends with substring."
   ]
  },
  {
   "cell_type": "code",
   "execution_count": null,
   "id": "c3118e82",
   "metadata": {},
   "outputs": [],
   "source": [
    "s = \"hello\"\n",
    "print(s.endswith(\"o\"))"
   ]
  },
  {
   "cell_type": "markdown",
   "id": "97693f34",
   "metadata": {},
   "source": [
    "### str.expandtabs()\n",
    "**Description**: Replace tabs with spaces."
   ]
  },
  {
   "cell_type": "code",
   "execution_count": null,
   "id": "8ec31d56",
   "metadata": {},
   "outputs": [],
   "source": [
    "s = \"a\tb\"\n",
    "print(s.expandtabs(4))"
   ]
  },
  {
   "cell_type": "markdown",
   "id": "e3bd59a4",
   "metadata": {},
   "source": [
    "### str.find()\n",
    "**Description**: Find index of first occurrence."
   ]
  },
  {
   "cell_type": "code",
   "execution_count": null,
   "id": "3e4072e9",
   "metadata": {},
   "outputs": [],
   "source": [
    "s = \"hello\"\n",
    "print(s.find(\"e\"))"
   ]
  },
  {
   "cell_type": "markdown",
   "id": "d4b54ff2",
   "metadata": {},
   "source": [
    "### str.format()\n",
    "**Description**: Insert variables in string."
   ]
  },
  {
   "cell_type": "code",
   "execution_count": null,
   "id": "bb4b61fc",
   "metadata": {},
   "outputs": [],
   "source": [
    "print(\"My name is {}\".format(\"Rohan\"))"
   ]
  },
  {
   "cell_type": "markdown",
   "id": "7bc93f99",
   "metadata": {},
   "source": [
    "### str.format_map()\n",
    "**Description**: Format with mapping (dict)."
   ]
  },
  {
   "cell_type": "code",
   "execution_count": null,
   "id": "a3f7aa95",
   "metadata": {},
   "outputs": [],
   "source": [
    "data = {\"name\": \"Rohan\"}\n",
    "print(\"My name is {name}\".format_map(data))"
   ]
  },
  {
   "cell_type": "markdown",
   "id": "ba53cb10",
   "metadata": {},
   "source": [
    "### str.index()\n",
    "**Description**: Like find() but error if not found."
   ]
  },
  {
   "cell_type": "code",
   "execution_count": null,
   "id": "6265728d",
   "metadata": {},
   "outputs": [],
   "source": [
    "s = \"hello\"\n",
    "print(s.index(\"e\"))"
   ]
  },
  {
   "cell_type": "markdown",
   "id": "a2e6c4a8",
   "metadata": {},
   "source": [
    "### str.isalnum()\n",
    "**Description**: Check if all characters are alphanumeric."
   ]
  },
  {
   "cell_type": "code",
   "execution_count": null,
   "id": "393800dc",
   "metadata": {},
   "outputs": [],
   "source": [
    "s = \"abc123\"\n",
    "print(s.isalnum())"
   ]
  },
  {
   "cell_type": "markdown",
   "id": "f963f8e1",
   "metadata": {},
   "source": [
    "### str.isalpha()\n",
    "**Description**: Check if all characters are alphabetic."
   ]
  },
  {
   "cell_type": "code",
   "execution_count": null,
   "id": "10d4d67e",
   "metadata": {},
   "outputs": [],
   "source": [
    "s = \"abc\"\n",
    "print(s.isalpha())"
   ]
  },
  {
   "cell_type": "markdown",
   "id": "15d0ba8f",
   "metadata": {},
   "source": [
    "### str.isascii()\n",
    "**Description**: Check if all characters are ASCII."
   ]
  },
  {
   "cell_type": "code",
   "execution_count": null,
   "id": "f5d06a0a",
   "metadata": {},
   "outputs": [],
   "source": [
    "s = \"abc\"\n",
    "print(s.isascii())"
   ]
  },
  {
   "cell_type": "markdown",
   "id": "6cec956f",
   "metadata": {},
   "source": [
    "### str.isdecimal()\n",
    "**Description**: Check if all characters are decimals."
   ]
  },
  {
   "cell_type": "code",
   "execution_count": null,
   "id": "6256c961",
   "metadata": {},
   "outputs": [],
   "source": [
    "s = \"123\"\n",
    "print(s.isdecimal())"
   ]
  },
  {
   "cell_type": "markdown",
   "id": "f837d1a0",
   "metadata": {},
   "source": [
    "### str.isdigit()\n",
    "**Description**: Check if all characters are digits."
   ]
  },
  {
   "cell_type": "code",
   "execution_count": null,
   "id": "b4bbc37d",
   "metadata": {},
   "outputs": [],
   "source": [
    "s = \"123\"\n",
    "print(s.isdigit())"
   ]
  },
  {
   "cell_type": "markdown",
   "id": "a6c02e1a",
   "metadata": {},
   "source": [
    "### str.isidentifier()\n",
    "**Description**: Check if string is valid identifier."
   ]
  },
  {
   "cell_type": "code",
   "execution_count": null,
   "id": "a723cd48",
   "metadata": {},
   "outputs": [],
   "source": [
    "s = \"name1\"\n",
    "print(s.isidentifier())"
   ]
  },
  {
   "cell_type": "markdown",
   "id": "98f83e48",
   "metadata": {},
   "source": [
    "### str.islower()\n",
    "**Description**: Check if all characters are lowercase."
   ]
  },
  {
   "cell_type": "code",
   "execution_count": null,
   "id": "73d9914c",
   "metadata": {},
   "outputs": [],
   "source": [
    "s = \"hello\"\n",
    "print(s.islower())"
   ]
  },
  {
   "cell_type": "markdown",
   "id": "5f91398d",
   "metadata": {},
   "source": [
    "### str.isnumeric()\n",
    "**Description**: Check if all characters are numeric."
   ]
  },
  {
   "cell_type": "code",
   "execution_count": null,
   "id": "334eae8c",
   "metadata": {},
   "outputs": [],
   "source": [
    "s = \"123\"\n",
    "print(s.isnumeric())"
   ]
  },
  {
   "cell_type": "markdown",
   "id": "ab41498d",
   "metadata": {},
   "source": [
    "### str.isprintable()\n",
    "**Description**: Check if all characters are printable."
   ]
  },
  {
   "cell_type": "code",
   "execution_count": null,
   "id": "e30a137f",
   "metadata": {},
   "outputs": [],
   "source": [
    "s = \"abc\"\n",
    "print(s.isprintable())"
   ]
  },
  {
   "cell_type": "markdown",
   "id": "e51bebf6",
   "metadata": {},
   "source": [
    "### str.isspace()\n",
    "**Description**: Check if all characters are whitespace."
   ]
  },
  {
   "cell_type": "code",
   "execution_count": null,
   "id": "c2ea4b47",
   "metadata": {},
   "outputs": [],
   "source": [
    "s = \"   \"\n",
    "print(s.isspace())"
   ]
  },
  {
   "cell_type": "markdown",
   "id": "07b7cf22",
   "metadata": {},
   "source": [
    "### str.istitle()\n",
    "**Description**: Check if string is titlecased."
   ]
  },
  {
   "cell_type": "code",
   "execution_count": null,
   "id": "6e3b8ed0",
   "metadata": {},
   "outputs": [],
   "source": [
    "s = \"Hello World\"\n",
    "print(s.istitle())"
   ]
  },
  {
   "cell_type": "markdown",
   "id": "53de6131",
   "metadata": {},
   "source": [
    "### str.isupper()\n",
    "**Description**: Check if all characters are uppercase."
   ]
  },
  {
   "cell_type": "code",
   "execution_count": null,
   "id": "a3e5050d",
   "metadata": {},
   "outputs": [],
   "source": [
    "s = \"HELLO\"\n",
    "print(s.isupper())"
   ]
  },
  {
   "cell_type": "markdown",
   "id": "8d48c94c",
   "metadata": {},
   "source": [
    "### str.join()\n",
    "**Description**: Join iterable with string as separator."
   ]
  },
  {
   "cell_type": "code",
   "execution_count": null,
   "id": "3754dd25",
   "metadata": {},
   "outputs": [],
   "source": [
    "s = \"-\"\n",
    "print(s.join([\"a\", \"b\", \"c\"]))"
   ]
  },
  {
   "cell_type": "markdown",
   "id": "cf7f69db",
   "metadata": {},
   "source": [
    "### str.ljust()\n",
    "**Description**: Left justify the string."
   ]
  },
  {
   "cell_type": "code",
   "execution_count": null,
   "id": "8a03c36b",
   "metadata": {},
   "outputs": [],
   "source": [
    "s = \"hi\"\n",
    "print(s.ljust(5, \".\"))"
   ]
  },
  {
   "cell_type": "markdown",
   "id": "72545370",
   "metadata": {},
   "source": [
    "### str.lower()\n",
    "**Description**: Convert to lowercase."
   ]
  },
  {
   "cell_type": "code",
   "execution_count": null,
   "id": "924cd29c",
   "metadata": {},
   "outputs": [],
   "source": [
    "s = \"HELLO\"\n",
    "print(s.lower())"
   ]
  },
  {
   "cell_type": "markdown",
   "id": "bb47e5d0",
   "metadata": {},
   "source": [
    "### str.lstrip()\n",
    "**Description**: Remove leading spaces or characters."
   ]
  },
  {
   "cell_type": "code",
   "execution_count": null,
   "id": "9e7614c7",
   "metadata": {},
   "outputs": [],
   "source": [
    "s = \"  hello\"\n",
    "print(s.lstrip())"
   ]
  },
  {
   "cell_type": "markdown",
   "id": "7fe94b18",
   "metadata": {},
   "source": [
    "### str.maketrans()\n",
    "**Description**: Create translation table."
   ]
  },
  {
   "cell_type": "code",
   "execution_count": null,
   "id": "e3163dc7",
   "metadata": {},
   "outputs": [],
   "source": [
    "intab = \"ae\"\n",
    "outtab = \"12\"\n",
    "trans = str.maketrans(intab, outtab)\n",
    "print(\"apple\".translate(trans))"
   ]
  },
  {
   "cell_type": "markdown",
   "id": "04c4db01",
   "metadata": {},
   "source": [
    "### str.partition()\n",
    "**Description**: Split string into 3 parts."
   ]
  },
  {
   "cell_type": "code",
   "execution_count": null,
   "id": "2ade0ae9",
   "metadata": {},
   "outputs": [],
   "source": [
    "s = \"hello:world\"\n",
    "print(s.partition(\":\"))"
   ]
  },
  {
   "cell_type": "markdown",
   "id": "6ff5b8a4",
   "metadata": {},
   "source": [
    "### str.removeprefix()\n",
    "**Description**: Remove prefix if exists."
   ]
  },
  {
   "cell_type": "code",
   "execution_count": null,
   "id": "a2e03931",
   "metadata": {},
   "outputs": [],
   "source": [
    "s = \"unhappy\"\n",
    "print(s.removeprefix(\"un\"))"
   ]
  },
  {
   "cell_type": "markdown",
   "id": "e8a23193",
   "metadata": {},
   "source": [
    "### str.removesuffix()\n",
    "**Description**: Remove suffix if exists."
   ]
  },
  {
   "cell_type": "code",
   "execution_count": null,
   "id": "ccaeb47d",
   "metadata": {},
   "outputs": [],
   "source": [
    "s = \"walked\"\n",
    "print(s.removesuffix(\"ed\"))"
   ]
  },
  {
   "cell_type": "markdown",
   "id": "dcceeed2",
   "metadata": {},
   "source": [
    "### str.replace()\n",
    "**Description**: Replace substring."
   ]
  },
  {
   "cell_type": "code",
   "execution_count": null,
   "id": "5bb9403d",
   "metadata": {},
   "outputs": [],
   "source": [
    "s = \"hello world\"\n",
    "print(s.replace(\"world\", \"Python\"))"
   ]
  },
  {
   "cell_type": "markdown",
   "id": "1f7da570",
   "metadata": {},
   "source": [
    "### str.rfind()\n",
    "**Description**: Find last occurrence."
   ]
  },
  {
   "cell_type": "code",
   "execution_count": null,
   "id": "4a2029ee",
   "metadata": {},
   "outputs": [],
   "source": [
    "s = \"banana\"\n",
    "print(s.rfind(\"a\"))"
   ]
  },
  {
   "cell_type": "markdown",
   "id": "b64567ec",
   "metadata": {},
   "source": [
    "### str.rindex()\n",
    "**Description**: Like rfind() but error if not found."
   ]
  },
  {
   "cell_type": "code",
   "execution_count": null,
   "id": "0ff4c1a6",
   "metadata": {},
   "outputs": [],
   "source": [
    "s = \"banana\"\n",
    "print(s.rindex(\"a\"))"
   ]
  },
  {
   "cell_type": "markdown",
   "id": "c33f5cdb",
   "metadata": {},
   "source": [
    "### str.rjust()\n",
    "**Description**: Right justify the string."
   ]
  },
  {
   "cell_type": "code",
   "execution_count": null,
   "id": "26b12f33",
   "metadata": {},
   "outputs": [],
   "source": [
    "s = \"hi\"\n",
    "print(s.rjust(5, \".\"))"
   ]
  },
  {
   "cell_type": "markdown",
   "id": "3d505bbc",
   "metadata": {},
   "source": [
    "### str.rsplit()\n",
    "**Description**: Split from right."
   ]
  },
  {
   "cell_type": "code",
   "execution_count": null,
   "id": "ce031a4d",
   "metadata": {},
   "outputs": [],
   "source": [
    "s = \"a,b,c\"\n",
    "print(s.rsplit(\",\", 1))"
   ]
  },
  {
   "cell_type": "markdown",
   "id": "a59057ca",
   "metadata": {},
   "source": [
    "### str.rstrip()\n",
    "**Description**: Remove trailing spaces or characters."
   ]
  },
  {
   "cell_type": "code",
   "execution_count": null,
   "id": "0fc12a53",
   "metadata": {},
   "outputs": [],
   "source": [
    "s = \"hello   \"\n",
    "print(s.rstrip())"
   ]
  },
  {
   "cell_type": "markdown",
   "id": "b39047d3",
   "metadata": {},
   "source": [
    "### str.split()\n",
    "**Description**: Split string into list."
   ]
  },
  {
   "cell_type": "code",
   "execution_count": null,
   "id": "9e831032",
   "metadata": {},
   "outputs": [],
   "source": [
    "s = \"a b c\"\n",
    "print(s.split())"
   ]
  },
  {
   "cell_type": "markdown",
   "id": "5d51c603",
   "metadata": {},
   "source": [
    "### str.splitlines()\n",
    "**Description**: Split string at line breaks."
   ]
  },
  {
   "cell_type": "code",
   "execution_count": null,
   "id": "cebb8d16",
   "metadata": {},
   "outputs": [],
   "source": [
    "s = \"a\\nb\\nc\"\n",
    "print(s.splitlines())"
   ]
  },
  {
   "cell_type": "markdown",
   "id": "c2f6ea5a",
   "metadata": {},
   "source": [
    "### str.startswith()\n",
    "**Description**: Check if string starts with prefix."
   ]
  },
  {
   "cell_type": "code",
   "execution_count": null,
   "id": "dcc03a94",
   "metadata": {},
   "outputs": [],
   "source": [
    "s = \"hello\"\n",
    "print(s.startswith(\"he\"))"
   ]
  },
  {
   "cell_type": "markdown",
   "id": "899596e9",
   "metadata": {},
   "source": [
    "### str.strip()\n",
    "**Description**: Remove leading and trailing characters."
   ]
  },
  {
   "cell_type": "code",
   "execution_count": null,
   "id": "a3fd0d82",
   "metadata": {},
   "outputs": [],
   "source": [
    "s = \"  hello  \"\n",
    "print(s.strip())"
   ]
  },
  {
   "cell_type": "markdown",
   "id": "ba34f9c5",
   "metadata": {},
   "source": [
    "### str.swapcase()\n",
    "**Description**: Swap case of characters."
   ]
  },
  {
   "cell_type": "code",
   "execution_count": null,
   "id": "af8a2a75",
   "metadata": {},
   "outputs": [],
   "source": [
    "s = \"Hello\"\n",
    "print(s.swapcase())"
   ]
  },
  {
   "cell_type": "markdown",
   "id": "1f4906b4",
   "metadata": {},
   "source": [
    "### str.title()\n",
    "**Description**: Convert to title case."
   ]
  },
  {
   "cell_type": "code",
   "execution_count": null,
   "id": "ef30cbe1",
   "metadata": {},
   "outputs": [],
   "source": [
    "s = \"hello world\"\n",
    "print(s.title())"
   ]
  },
  {
   "cell_type": "markdown",
   "id": "0e78f96f",
   "metadata": {},
   "source": [
    "### str.translate()\n",
    "**Description**: Translate characters using table."
   ]
  },
  {
   "cell_type": "code",
   "execution_count": null,
   "id": "ae43deef",
   "metadata": {},
   "outputs": [],
   "source": [
    "table = str.maketrans(\"ae\", \"12\")\n",
    "print(\"apple\".translate(table))"
   ]
  },
  {
   "cell_type": "markdown",
   "id": "21724618",
   "metadata": {},
   "source": [
    "### str.upper()\n",
    "**Description**: Convert to uppercase."
   ]
  },
  {
   "cell_type": "code",
   "execution_count": null,
   "id": "46a7331c",
   "metadata": {},
   "outputs": [],
   "source": [
    "s = \"hello\"\n",
    "print(s.upper())"
   ]
  },
  {
   "cell_type": "markdown",
   "id": "24da9117",
   "metadata": {},
   "source": [
    "### str.zfill()\n",
    "**Description**: Pad string with zeros from left."
   ]
  },
  {
   "cell_type": "code",
   "execution_count": null,
   "id": "84d5ec3e",
   "metadata": {},
   "outputs": [],
   "source": [
    "s = \"42\"\n",
    "print(s.zfill(5))"
   ]
  }
 ],
 "metadata": {
  "kernelspec": {
   "display_name": "Python [conda env:base] *",
   "language": "python",
   "name": "conda-base-py"
  },
  "language_info": {
   "codemirror_mode": {
    "name": "ipython",
    "version": 3
   },
   "file_extension": ".py",
   "mimetype": "text/x-python",
   "name": "python",
   "nbconvert_exporter": "python",
   "pygments_lexer": "ipython3",
   "version": "3.13.5"
  }
 },
 "nbformat": 4,
 "nbformat_minor": 5
}
